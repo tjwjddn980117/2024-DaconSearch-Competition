{
 "cells": [
  {
   "cell_type": "markdown",
   "metadata": {},
   "source": [
    "# Import Library"
   ]
  },
  {
   "cell_type": "code",
   "execution_count": null,
   "metadata": {},
   "outputs": [],
   "source": [
    "import os\n",
    "import unicodedata\n",
    "\n",
    "import pandas as pd\n",
    "from tqdm import tqdm\n",
    "import fitz  # PyMuPDF\n",
    "import pickle\n",
    "\n",
    "# Langchain 관련\n",
    "from langchain.embeddings import HuggingFaceEmbeddings\n",
    "from langchain.vectorstores import FAISS\n",
    "from langchain.schema import Document\n",
    "from langchain.text_splitter import RecursiveCharacterTextSplitter"
   ]
  },
  {
   "cell_type": "markdown",
   "metadata": {},
   "source": [
    "# CONFIG"
   ]
  },
  {
   "cell_type": "code",
   "execution_count": null,
   "metadata": {},
   "outputs": [],
   "source": [
    "class CFG:\n",
    "    # Root of Files\n",
    "    BASE_DIRECTORY = './'\n",
    "    DACON_TRAIN_CSV = './train.csv'\n",
    "    DACON_TEST_CSV = './test.csv'\n",
    "\n",
    "    EMBEDDINGS_ABOUT_TRAINING_DATASET = 'databases_multilingual-e5-base_training.pickle'\n",
    "    EMBEDDINGS_ABOUT_TEST_DATASET = 'databases_multilingual-e5-base_test.pickle'\n",
    "\n",
    "    EMBEDDING_CSV_TEST = './datas/stf_e5_base_test.csv'\n",
    "\n",
    "    # About Embedding\n",
    "    EMBEDDING_MODEL = \"intfloat/multilingual-e5-base\"\n",
    "    CHUNK_SIZE = 800\n",
    "    CHUNK_OVERLAP = 50\n",
    "    \n",
    "    SEARCH_TYPE = \"mmr\"\n",
    "    SEARCH_KWARGS_K = 3\n",
    "    SEARCH_KWARGS_FETCH_K = 8"
   ]
  },
  {
   "cell_type": "markdown",
   "metadata": {},
   "source": [
    "### Vector DB"
   ]
  },
  {
   "cell_type": "code",
   "execution_count": null,
   "metadata": {},
   "outputs": [],
   "source": [
    "def process_pdf(file_path, chunk_size=CFG.CHUNK_SIZE, chunk_overlap=CFG.CHUNK_OVERLAP):\n",
    "    \"\"\"PDF 텍스트 추출 후 chunk 단위로 나누기\"\"\"\n",
    "    # PDF 파일 열기\n",
    "    doc = fitz.open(file_path)\n",
    "    text = ''\n",
    "    # 모든 페이지의 텍스트 추출\n",
    "    for page in doc:\n",
    "        text += page.get_text()\n",
    "    # 텍스트를 chunk로 분할\n",
    "    splitter = RecursiveCharacterTextSplitter(\n",
    "        chunk_size=chunk_size,\n",
    "        chunk_overlap=chunk_overlap\n",
    "    )\n",
    "    chunk_temp = splitter.split_text(text)\n",
    "    # Document 객체 리스트 생성\n",
    "    chunks = [Document(page_content=t) for t in chunk_temp]\n",
    "    return chunks\n",
    "\n",
    "\n",
    "def create_vector_db(chunks, model_path=CFG.EMBEDDING_MODEL):\n",
    "    \"\"\"FAISS DB 생성\"\"\"\n",
    "    # 임베딩 모델 설정\n",
    "    model_kwargs = {'device': 'cuda'}\n",
    "    encode_kwargs = {'normalize_embeddings': True}\n",
    "    embeddings = HuggingFaceEmbeddings(\n",
    "        model_name=model_path,\n",
    "        model_kwargs=model_kwargs,\n",
    "        encode_kwargs=encode_kwargs\n",
    "    )\n",
    "    # FAISS DB 생성 및 반환\n",
    "    db = FAISS.from_documents(chunks, embedding=embeddings)\n",
    "    return db\n",
    "\n",
    "def normalize_path(path):\n",
    "    \"\"\"경로 유니코드 정규화\"\"\"\n",
    "    return unicodedata.normalize('NFC', path)\n",
    "\n",
    "\n",
    "def process_pdfs_from_dataframe(df, base_directory):\n",
    "    \"\"\"딕셔너리에 pdf명을 키로해서 DB, retriever 저장\"\"\"\n",
    "    pdf_databases = {}\n",
    "    unique_paths = df['Source_path'].unique()\n",
    "    \n",
    "    for path in tqdm(unique_paths, desc=\"Processing PDFs\"):\n",
    "        # 경로 정규화 및 절대 경로 생성\n",
    "        normalized_path = normalize_path(path)\n",
    "        full_path = os.path.normpath(os.path.join(base_directory, normalized_path.lstrip('./'))) if not os.path.isabs(normalized_path) else normalized_path\n",
    "        \n",
    "        pdf_title = os.path.splitext(os.path.basename(full_path))[0]\n",
    "        print(f\"Processing {pdf_title}...\")\n",
    "        \n",
    "        # PDF 처리 및 벡터 DB 생성\n",
    "        chunks = process_pdf(full_path)\n",
    "        db = create_vector_db(chunks)\n",
    "        \n",
    "        # Retriever 생성\n",
    "        retriever = db.as_retriever(search_type=CFG.SEARCH_TYPE, \n",
    "                                    search_kwargs={'k': 3, 'fetch_k': 8})\n",
    "        \n",
    "        # 결과 저장\n",
    "        pdf_databases[pdf_title] = {\n",
    "                'db': db,\n",
    "                'retriever': retriever\n",
    "        }\n",
    "    return pdf_databases"
   ]
  },
  {
   "cell_type": "markdown",
   "metadata": {},
   "source": [
    "### EMBEDDING 정보를 저장한 CSV 파일의 생성을 위한 FUNCTIONS"
   ]
  },
  {
   "cell_type": "code",
   "execution_count": null,
   "metadata": {},
   "outputs": [],
   "source": [
    "def normalize_string(s):\n",
    "    \"\"\"유니코드 정규화\"\"\"\n",
    "    return unicodedata.normalize('NFC', s)\n",
    "\n",
    "def format_docs(docs):\n",
    "    \"\"\"검색된 문서들을 하나의 문자열로 포맷팅\"\"\"\n",
    "    context = \"\"\n",
    "    for doc in docs:\n",
    "        context += doc.page_content\n",
    "        context += '\\n'\n",
    "    return context\n",
    "\n",
    "def extract_context(df, pdf_databases, data_type='train'):\n",
    "    # 결과를 저장할 리스트 초기화\n",
    "    results = []\n",
    "\n",
    "    # 배치 사이즈 설정\n",
    "    batch_size = 1  # 원하는 배치 크기로 설정\n",
    "\n",
    "    # DataFrame의 각 행에 대해 처리\n",
    "    for start in tqdm(range(0, len(df), batch_size), desc=\"Creating Q&A including RAG info\"):\n",
    "        # 현재 배치 선택\n",
    "        batch_rows = df.iloc[start:start + batch_size]\n",
    "\n",
    "        # 배치 내의 각 행 처리\n",
    "        for _, row in batch_rows.iterrows():\n",
    "            # 소스 문자열 정규화\n",
    "            source = normalize_string(row['Source'])\n",
    "            question = normalize_string(row['Question'])\n",
    "            if data_type == 'train':\n",
    "                answer = normalize_string(row['Answer'])\n",
    "\n",
    "            # 정규화된 키로 데이터베이스 검색\n",
    "            normalized_keys = {normalize_string(k): v for k, v in pdf_databases.items()}\n",
    "            retriever = normalized_keys[source]['retriever']\n",
    "\n",
    "            context = format_docs(retriever.invoke(question))\n",
    "\n",
    "            if data_type == 'train':\n",
    "                results.append({\n",
    "                    \"Context\" : context,\n",
    "                    \"Question\": question,\n",
    "                    \"Answer\"  : answer,\n",
    "                })\n",
    "            else:\n",
    "                results.append({\n",
    "                    \"Context\" : context,\n",
    "                    \"Question\": question,\n",
    "                })\n",
    "\n",
    "    return results\n"
   ]
  },
  {
   "cell_type": "markdown",
   "metadata": {},
   "source": [
    "### TRAINING에 관한 CSV 파일 생성"
   ]
  },
  {
   "cell_type": "code",
   "execution_count": null,
   "metadata": {},
   "outputs": [],
   "source": [
    "train_df = pd.read_csv(CFG.DACON_TRAIN_CSV)\n",
    "with open(CFG.EMBEDDINGS_ABOUT_TRAINING_DATASET, 'rb') as f:\n",
    "    train_pdf_databases = pickle.load(f)"
   ]
  },
  {
   "cell_type": "markdown",
   "metadata": {},
   "source": [
    "### TEST에 관한 CSV 파일 생성"
   ]
  },
  {
   "cell_type": "code",
   "execution_count": null,
   "metadata": {},
   "outputs": [],
   "source": [
    "test_df = pd.read_csv(CFG.DACON_TEST_CSV)\n",
    "with open(CFG.EMBEDDINGS_ABOUT_TEST_DATASET, 'rb') as f:\n",
    "    test_pdf_databases = pickle.load(f)"
   ]
  },
  {
   "cell_type": "code",
   "execution_count": null,
   "metadata": {},
   "outputs": [],
   "source": [
    "test_context = extract_context(test_df, test_pdf_databases, data_type='test')\n",
    "\n",
    "stf_test_df = pd.DataFrame(test_context)\n",
    "\n",
    "stf_test_df.to_csv(CFG.EMBEDDING_CSV_TEST, index=False, encoding=\"UTF-8\")"
   ]
  }
 ],
 "metadata": {
  "kernelspec": {
   "display_name": "Search_Baseline",
   "language": "python",
   "name": "python3"
  },
  "language_info": {
   "name": "python",
   "version": "3.10.14"
  }
 },
 "nbformat": 4,
 "nbformat_minor": 2
}
